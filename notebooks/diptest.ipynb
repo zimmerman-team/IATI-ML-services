{
 "cells": [
  {
   "cell_type": "code",
   "execution_count": 1,
   "id": "a899ef52",
   "metadata": {},
   "outputs": [],
   "source": [
    "import unidip\n",
    "import numpy as np\n",
    "import seaborn as sns"
   ]
  },
  {
   "cell_type": "code",
   "execution_count": null,
   "id": "53fd82e6",
   "metadata": {},
   "outputs": [],
   "source": []
  },
  {
   "cell_type": "code",
   "execution_count": 2,
   "id": "88fea287",
   "metadata": {},
   "outputs": [],
   "source": [
    "dimensionality=2\n",
    "default_cov = np.identity(dimensionality)*0.0001\n",
    "def create_multimodal_dataset(K=1,points_per_center=10,cov=default_cov):\n",
    "    centers = np.random.uniform(-1,1,(K,dimensionality))\n",
    "    points = []\n",
    "    for k in range(K):\n",
    "        c = centers[k,:]\n",
    "        #print(f\"center {k}: {c}\")\n",
    "        curr_points = np.random.multivariate_normal(c,cov,size=points_per_center)\n",
    "        points.append(curr_points)\n",
    "        \n",
    "    points_npa = np.vstack(points)\n",
    "    return centers, points_npa\n",
    "\n"
   ]
  },
  {
   "cell_type": "code",
   "execution_count": 3,
   "id": "23fa2578",
   "metadata": {},
   "outputs": [
    {
     "name": "stdout",
     "output_type": "stream",
     "text": [
      "dimensionality 2\n"
     ]
    },
    {
     "data": {
      "image/png": "[encoded data removed]",
      "text/plain": [
       "<Figure size 432x288 with 1 Axes>"
      ]
     },
     "metadata": {
      "needs_background": "light"
     },
     "output_type": "display_data"
    }
   ],
   "source": [
    "centers, points_npa = create_multimodal_dataset(K=5,points_per_center=100)\n",
    "if dimensionality == 1:\n",
    "    print(\"single dimensionality\")\n",
    "    sns.scatterplot(x=range(len(points_npa)),y=np.sort(points_npa[:,0]))\n",
    "else:\n",
    "    print(f\"dimensionality {dimensionality}\")\n",
    "    sns.scatterplot(x=points_npa[:,0],y=points_npa[:,1])"
   ]
  },
  {
   "cell_type": "code",
   "execution_count": null,
   "id": "7c5c3747",
   "metadata": {},
   "outputs": [],
   "source": []
  },
  {
   "cell_type": "code",
   "execution_count": 4,
   "id": "d14c38fd",
   "metadata": {},
   "outputs": [],
   "source": [
    "def calculate_distances(points_npa):\n",
    "    center = np.mean(points_npa,0)\n",
    "    distances = np.sqrt(np.sum((points_npa - center)**2,axis=1))\n",
    "    return distances"
   ]
  },
  {
   "cell_type": "code",
   "execution_count": 5,
   "id": "b7532515",
   "metadata": {},
   "outputs": [
    {
     "name": "stderr",
     "output_type": "stream",
     "text": [
      "/home/frablum/.local/lib/python3.9/site-packages/seaborn/_decorators.py:36: FutureWarning: Pass the following variables as keyword args: x, y. From version 0.12, the only valid positional argument will be `data`, and passing other arguments without an explicit keyword will result in an error or misinterpretation.\n",
      "  warnings.warn(\n"
     ]
    },
    {
     "data": {
      "text/plain": [
       "<AxesSubplot:>"
      ]
     },
     "execution_count": 5,
     "metadata": {},
     "output_type": "execute_result"
    },
    {
     "data": {
      "image/png": "[encoded data removed]",
      "text/plain": [
       "<Figure size 432x288 with 1 Axes>"
      ]
     },
     "metadata": {
      "needs_background": "light"
     },
     "output_type": "display_data"
    }
   ],
   "source": [
    "distances = calculate_distances(points_npa)\n",
    "sns.scatterplot(range(distances.shape[0]),np.sort(distances))"
   ]
  },
  {
   "cell_type": "code",
   "execution_count": 6,
   "id": "1df78e34",
   "metadata": {},
   "outputs": [
    {
     "data": {
      "text/plain": [
       "(0.08743675182723787, 0.000999000999000999, (200, 398))"
      ]
     },
     "execution_count": 6,
     "metadata": {},
     "output_type": "execute_result"
    }
   ],
   "source": [
    "unidip.dip.diptst(distances)"
   ]
  },
  {
   "cell_type": "code",
   "execution_count": 7,
   "id": "46ab3af2",
   "metadata": {},
   "outputs": [
    {
     "name": "stdout",
     "output_type": "stream",
     "text": [
      "[(0, 98), (101, 397), (401, 500)]\n"
     ]
    }
   ],
   "source": [
    "intervals = unidip.UniDip(distances, alpha=0.001, ntrials=1000, mrg_dst=1).run()\n",
    "print(intervals)"
   ]
  },
  {
   "cell_type": "code",
   "execution_count": 8,
   "id": "67b922ea",
   "metadata": {},
   "outputs": [
    {
     "name": "stdout",
     "output_type": "stream",
     "text": [
      "1 (0.027621198355048476, 0.8751248751248751, (31, 41)) 1 1\n",
      "2 (0.013378511832158435, 1.0, (104, 124)) 1 1\n",
      "3 (0.14082796134958725, 0.000999000999000999, (0, 198)) 2 2\n",
      "4 (0.1700136338355629, 0.000999000999000999, (2, 197)) 3 3\n",
      "5 (0.0859662104465684, 0.000999000999000999, (203, 395)) 4 4\n",
      "6 (0.06665504577748693, 0.000999000999000999, (106, 490)) 3 3\n",
      "7 (0.1439331505088871, 0.000999000999000999, (304, 597)) 5 5\n",
      "8 (0.09187533013722798, 0.000999000999000999, (4, 398)) 7 7\n",
      "9 (0.0875246563642339, 0.000999000999000999, (201, 496)) 9 8\n",
      "10 (0.06319305211708531, 0.000999000999000999, (102, 592)) 8 8\n",
      "11 (0.03890051925318336, 0.000999000999000999, (512, 685)) 7 7\n",
      "12 (0.08614336734819378, 0.000999000999000999, (503, 794)) 9 8\n",
      "13 (0.05527965101333189, 0.000999000999000999, (906, 1193)) 10 10\n",
      "14 (0.03357881704561694, 0.000999000999000999, (411, 790)) 12 12\n",
      "15 (0.05348167877987342, 0.000999000999000999, (111, 1091)) 14 7\n",
      "16 (0.05663756463335884, 0.000999000999000999, (351, 1150)) 7 6\n",
      "17 (0.06909834572626863, 0.000999000999000999, (911, 1693)) 11 11\n",
      "18 (0.026512117270267338, 0.000999000999000999, (803, 1161)) 13 13\n",
      "19 (0.05159666225785187, 0.000999000999000999, (407, 1892)) 9 9\n",
      "20 (0.04090385392852804, 0.000999000999000999, (714, 1691)) 11 10\n",
      "21 (0.05403581673393096, 0.000999000999000999, (814, 1381)) 9 11\n",
      "22 (0.03929335198667311, 0.000999000999000999, (614, 1191)) 13 12\n",
      "23 (0.03033279522155695, 0.000999000999000999, (1117, 2065)) 14 14\n",
      "24 (0.03116881077678632, 0.000999000999000999, (1133, 1759)) 14 12\n",
      "25 (0.028717184706094967, 0.000999000999000999, (938, 1823)) 11 11\n",
      "26 (0.019682707676031516, 0.000999000999000999, (1544, 1970)) 14 14\n",
      "27 (0.04530423427887709, 0.000999000999000999, (918, 1776)) 13 10\n",
      "28 (0.04302443382040083, 0.000999000999000999, (114, 893)) 20 15\n",
      "29 (0.03611231288172041, 0.000999000999000999, (1043, 1795)) 11 9\n",
      "30 (0.05157785592556274, 0.000999000999000999, (819, 1477)) 10 10\n",
      "31 (0.04385277578737881, 0.000999000999000999, (1723, 2966)) 9 13\n",
      "32 (0.04196798846723923, 0.000999000999000999, (1806, 3084)) 15 15\n",
      "33 (0.04277155047218534, 0.000999000999000999, (1015, 2145)) 11 11\n",
      "34 (0.047691351868007575, 0.000999000999000999, (1613, 2674)) 19 18\n",
      "35 (0.056250866323120235, 0.000999000999000999, (2126, 3071)) 13 10\n",
      "36 (0.043119162847463754, 0.000999000999000999, (1821, 2757)) 17 13\n",
      "37 (0.02491741073210694, 0.000999000999000999, (825, 1928)) 13 13\n",
      "38 (0.05293973599646118, 0.000999000999000999, (1012, 2250)) 14 13\n",
      "39 (0.03311744658021992, 0.000999000999000999, (668, 1466)) 14 12\n",
      "40 (0.03216009665051672, 0.000999000999000999, (628, 1346)) 13 14\n",
      "41 (0.028430063244310168, 0.000999000999000999, (2076, 3157)) 10 10\n",
      "42 (0.02216828192586251, 0.000999000999000999, (1735, 3171)) 16 14\n",
      "43 (0.02798637909598667, 0.000999000999000999, (2652, 3762)) 17 19\n",
      "44 (0.023497233668566986, 0.000999000999000999, (1423, 3673)) 21 21\n",
      "45 (0.0349603372006827, 0.000999000999000999, (1527, 3179)) 17 20\n",
      "46 (0.01894284279085079, 0.000999000999000999, (1819, 2945)) 13 12\n",
      "47 (0.021346271402707423, 0.000999000999000999, (2528, 3541)) 15 15\n",
      "48 (0.038308924988407156, 0.000999000999000999, (738, 2356)) 13 12\n",
      "49 (0.024683744166688865, 0.000999000999000999, (2157, 2840)) 9 8\n",
      "50 (0.030808071335398562, 0.000999000999000999, (3217, 3964)) 18 15\n",
      "51 (0.02817105335917708, 0.000999000999000999, (1088, 3236)) 19 18\n",
      "52 (0.02101832739045323, 0.000999000999000999, (2238, 2751)) 19 18\n",
      "53 (0.03725941658512327, 0.000999000999000999, (1585, 2673)) 14 14\n",
      "54 (0.026924123752202878, 0.000999000999000999, (4054, 5062)) 18 18\n",
      "55 (0.01946622360596073, 0.000999000999000999, (1990, 3569)) 15 13\n",
      "56 (0.016276880073053016, 0.000999000999000999, (3471, 4332)) 19 15\n",
      "57 (0.01856405893107088, 0.000999000999000999, (2726, 3752)) 18 15\n",
      "58 (0.02832375543345536, 0.000999000999000999, (2270, 4980)) 15 15\n",
      "59 (0.022403791678184674, 0.000999000999000999, (2825, 4261)) 23 19\n",
      "60 (0.014396951513260065, 0.000999000999000999, (3296, 5111)) 18 9\n",
      "61 (0.020490620632630574, 0.000999000999000999, (3092, 4182)) 12 11\n",
      "62 (0.027335923983920818, 0.000999000999000999, (2449, 3880)) 15 14\n",
      "63 (0.04214890902445054, 0.000999000999000999, (4301, 5608)) 18 19\n",
      "64 (0.014696855547655041, 0.000999000999000999, (2482, 4825)) 14 14\n",
      "65 (0.01840195134496539, 0.000999000999000999, (3136, 5432)) 16 17\n",
      "66 (0.03071574793194752, 0.000999000999000999, (2154, 6057)) 21 19\n",
      "67 (0.018707239680553406, 0.000999000999000999, (3537, 5614)) 19 17\n",
      "68 (0.017668880559542313, 0.000999000999000999, (3992, 4548)) 17 19\n",
      "69 (0.02384125265864491, 0.000999000999000999, (3672, 4839)) 16 16\n",
      "70 (0.020375895587749424, 0.000999000999000999, (3390, 5334)) 17 18\n",
      "71 (0.019387037388186493, 0.000999000999000999, (4263, 4998)) 21 19\n",
      "72 (0.02022017477956413, 0.000999000999000999, (1144, 6546)) 16 15\n",
      "73 (0.024417862800585277, 0.000999000999000999, (2133, 3519)) 14 14\n",
      "74 (0.01743474396670852, 0.000999000999000999, (3095, 4317)) 16 16\n",
      "75 (0.025927798921472595, 0.000999000999000999, (4308, 6818)) 17 16\n",
      "76 (0.0145510454174375, 0.000999000999000999, (4775, 5461)) 17 17\n",
      "77 (0.023172465793726005, 0.000999000999000999, (1969, 3550)) 17 17\n",
      "78 (0.021924379219099788, 0.000999000999000999, (3019, 3894)) 19 17\n",
      "79 (0.021574894252293975, 0.000999000999000999, (4414, 6406)) 18 17\n",
      "80 (0.01843812657239291, 0.000999000999000999, (2789, 4030)) 13 13\n",
      "81 (0.02483745734616105, 0.000999000999000999, (5046, 6691)) 14 17\n",
      "82 (0.02673072549818631, 0.000999000999000999, (4970, 7058)) 14 14\n",
      "83 (0.017054793148749137, 0.000999000999000999, (3619, 4338)) 18 17\n",
      "84 (0.019912200577085218, 0.000999000999000999, (4656, 7213)) 16 14\n",
      "85 (0.027130770513250906, 0.000999000999000999, (4401, 6168)) 10 13\n",
      "86 (0.026495219731932473, 0.000999000999000999, (3959, 7237)) 13 12\n",
      "87 (0.028132922783964204, 0.000999000999000999, (3837, 7030)) 18 17\n",
      "88 (0.013909110356027626, 0.000999000999000999, (4371, 5897)) 21 19\n",
      "89 (0.014849382810679879, 0.000999000999000999, (4722, 6100)) 14 10\n",
      "90 (0.022729745963780967, 0.000999000999000999, (4062, 8313)) 18 16\n",
      "91 (0.02983724175421744, 0.000999000999000999, (4711, 6762)) 15 12\n",
      "92 (0.03201736712814518, 0.000999000999000999, (4512, 6363)) 18 19\n",
      "93 (0.018403267570891113, 0.000999000999000999, (3175, 4587)) 18 17\n",
      "94 (0.02570994797719156, 0.000999000999000999, (2460, 6802)) 26 23\n",
      "95 (0.01722418356798238, 0.000999000999000999, (5915, 7223)) 17 16\n",
      "96 (0.0155144776031277, 0.000999000999000999, (6273, 8359)) 19 13\n",
      "97 (0.016456958428642532, 0.000999000999000999, (4486, 7639)) 16 16\n",
      "98 (0.022246165334325968, 0.000999000999000999, (5445, 7993)) 20 19\n",
      "99 (0.01990088706271327, 0.000999000999000999, (4488, 7649)) 16 14\n"
     ]
    }
   ],
   "source": [
    "for k in range(1,100):\n",
    "    centers, points_npa = create_multimodal_dataset(K=k,points_per_center=100)\n",
    "    unidip.dip.diptst(distances)\n",
    "    distances = calculate_distances(points_npa)\n",
    "    intervals_0 = unidip.UniDip(distances, alpha=0.001, ntrials=1000, mrg_dst=0).run()\n",
    "    intervals_1 = unidip.UniDip(distances, alpha=0.001, ntrials=1000, mrg_dst=1).run()\n",
    "    print(k,unidip.dip.diptst(distances),len(intervals_0),len(intervals_1))\n"
   ]
  },
  {
   "cell_type": "code",
   "execution_count": 191,
   "id": "c2e2b3ad",
   "metadata": {},
   "outputs": [],
   "source": [
    "import sys\n",
    "import os\n",
    "sys.path.append(\n",
    "    os.path.abspath(\n",
    "        os.path.dirname(\n",
    "            # apparently in jupyter the variable __file__ is not defined\n",
    "            os.path.abspath(os.path.realpath(\"__file__\")) \n",
    "        )+\"/..\"\n",
    "    )\n",
    ")\n",
    "from common import persistency\n",
    "from common import relspecs"
   ]
  },
  {
   "cell_type": "code",
   "execution_count": 175,
   "id": "ed91b151",
   "metadata": {},
   "outputs": [
    {
     "name": "stdout",
     "output_type": "stream",
     "text": [
      "tsets creation time: 2021-12-14 07:02:34.783778\n",
      "divided: [(2700, 20), (2700, 181), (2700, 188), (2700, 1), (2700, 6), (2700, 7), (2700, 10), (2700, 67), (2700, 3)]\n",
      "scaling field <F:iati_identifier n_features:20> section.shape: (2700, 20)\n",
      "resulting section_scaled.shape: (2700, 20)\n",
      "scaling field <F:default_lang n_features:181> section.shape: (2700, 181)\n",
      "resulting section_scaled.shape: (2700, 181)\n",
      "scaling field <F:default_currency n_features:188> section.shape: (2700, 188)\n",
      "resulting section_scaled.shape: (2700, 188)\n",
      "scaling field <F:humanitarian n_features:1> section.shape: (2700, 1)\n",
      "resulting section_scaled.shape: (2700, 1)\n",
      "scaling field <F:activity_status_code n_features:6> section.shape: (2700, 6)\n",
      "resulting section_scaled.shape: (2700, 6)\n",
      "scaling field <F:collaboration_type_code n_features:7> section.shape: (2700, 7)\n",
      "resulting section_scaled.shape: (2700, 7)\n",
      "scaling field <F:default_flow_type n_features:10> section.shape: (2700, 10)\n",
      "resulting section_scaled.shape: (2700, 10)\n",
      "scaling field <F:default_finance_type_code n_features:67> section.shape: (2700, 67)\n",
      "resulting section_scaled.shape: (2700, 67)\n",
      "scaling field <F:default_tied_status_code n_features:3> section.shape: (2700, 3)\n",
      "resulting section_scaled.shape: (2700, 3)\n",
      "scaled sections: [(2700, 20), (2700, 181), (2700, 188), (2700, 1), (2700, 6), (2700, 7), (2700, 10), (2700, 67), (2700, 3)]\n",
      "divided: [(300, 20), (300, 181), (300, 188), (300, 1), (300, 6), (300, 7), (300, 10), (300, 67), (300, 3)]\n",
      "scaling field <F:iati_identifier n_features:20> section.shape: (300, 20)\n",
      "resulting section_scaled.shape: (300, 20)\n",
      "scaling field <F:default_lang n_features:181> section.shape: (300, 181)\n",
      "resulting section_scaled.shape: (300, 181)\n",
      "scaling field <F:default_currency n_features:188> section.shape: (300, 188)\n",
      "resulting section_scaled.shape: (300, 188)\n",
      "scaling field <F:humanitarian n_features:1> section.shape: (300, 1)\n",
      "resulting section_scaled.shape: (300, 1)\n",
      "scaling field <F:activity_status_code n_features:6> section.shape: (300, 6)\n",
      "resulting section_scaled.shape: (300, 6)\n",
      "scaling field <F:collaboration_type_code n_features:7> section.shape: (300, 7)\n",
      "resulting section_scaled.shape: (300, 7)\n",
      "scaling field <F:default_flow_type n_features:10> section.shape: (300, 10)\n",
      "resulting section_scaled.shape: (300, 10)\n",
      "scaling field <F:default_finance_type_code n_features:67> section.shape: (300, 67)\n",
      "resulting section_scaled.shape: (300, 67)\n",
      "scaling field <F:default_tied_status_code n_features:3> section.shape: (300, 3)\n",
      "resulting section_scaled.shape: (300, 3)\n",
      "scaled sections: [(300, 20), (300, 181), (300, 188), (300, 1), (300, 6), (300, 7), (300, 10), (300, 67), (300, 3)]\n"
     ]
    }
   ],
   "source": [
    "tsets = persistency.load_tsets(relspecs.activity)\n",
    "activity_data = np.vstack([tsets.train,tsets.test])\n"
   ]
  },
  {
   "cell_type": "code",
   "execution_count": 176,
   "id": "85304da9",
   "metadata": {},
   "outputs": [
    {
     "name": "stdout",
     "output_type": "stream",
     "text": [
      "19 (0.17847595959343016, 0.000999000999000999, (1220, 2540)) 8\n"
     ]
    }
   ],
   "source": [
    "activity_distances = calculate_distances(activity_data)\n",
    "activity_intervals = unidip.UniDip(activity_distances, alpha=0.001, ntrials=1000, mrg_dst=1).run()\n",
    "print(k,unidip.dip.diptst(activity_distances),len(activity_intervals))\n"
   ]
  },
  {
   "cell_type": "code",
   "execution_count": 179,
   "id": "d3ec3452",
   "metadata": {},
   "outputs": [
    {
     "data": {
      "text/plain": [
       "<AxesSubplot:>"
      ]
     },
     "execution_count": 179,
     "metadata": {},
     "output_type": "execute_result"
    },
    {
     "data": {
      "image/png": "[encoded data removed]",
      "text/plain": [
       "<Figure size 432x288 with 1 Axes>"
      ]
     },
     "metadata": {
      "needs_background": "light"
     },
     "output_type": "display_data"
    }
   ],
   "source": [
    "sns.scatterplot(x=range(len(activity_distances)), y=sorted(activity_distances))"
   ]
  }
 ],
 "metadata": {
  "kernelspec": {
   "display_name": "Python 3 (ipykernel)",
   "language": "python",
   "name": "python3"
  },
  "language_info": {
   "codemirror_mode": {
    "name": "ipython",
    "version": 3
   },
   "file_extension": ".py",
   "mimetype": "text/x-python",
   "name": "python",
   "nbconvert_exporter": "python",
   "pygments_lexer": "ipython3",
   "version": "3.9.5"
  }
 },
 "nbformat": 4,
 "nbformat_minor": 5
}
