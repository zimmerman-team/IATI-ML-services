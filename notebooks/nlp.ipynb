{
 "cells": [
  {
   "cell_type": "code",
   "execution_count": 5,
   "id": "fb4e414e-8308-4d69-a531-550dff1b20b8",
   "metadata": {},
   "outputs": [],
   "source": [
    "#models: https://github.com/RaRe-Technologies/gensim-data\n",
    "\n",
    "# pre-trained doc2vec: https://github.com/jhlau/doc2vec\n",
    "# https://github.com/jhlau/doc2vec/blob/master/infer_test.py\n",
    "\n",
    "import gensim\n",
    "import gensim.downloader\n",
    "#from gensim.scripts.glove2word2vec import glove2word2vec"
   ]
  },
  {
   "cell_type": "code",
   "execution_count": 6,
   "id": "b9210f14-6267-4198-b405-643597744350",
   "metadata": {},
   "outputs": [
    {
     "name": "stdout",
     "output_type": "stream",
     "text": [
      "/home/frablum/PycharmProjects/learning_sets/notebooks\n"
     ]
    }
   ],
   "source": [
    "from gensim.corpora.wikicorpus import WikiCorpus\n",
    "from gensim.models.doc2vec import Doc2Vec, TaggedDocument\n",
    "from pprint import pprint\n",
    "import multiprocessing\n",
    "import os\n",
    "print(os.getcwd())\n"
   ]
  },
  {
   "cell_type": "code",
   "execution_count": 12,
   "id": "61175cd2-a8bb-4aa8-ad7d-4e11e471fa75",
   "metadata": {},
   "outputs": [
    {
     "name": "stdout",
     "output_type": "stream",
     "text": [
      "create word->word_id mapping for ../corpora/enwiki-latest-pages-articles1.xml-p1p41242.bz2..\n",
      "done.\n",
      "create word->word_id mapping for ../corpora/frwiki-latest-pages-articles1.xml-p1p306134.bz2..\n",
      "done.\n",
      "create word->word_id mapping for ../corpora/enwiki-latest-pages-articles2.xml-p41243p151573.bz2..\n",
      "done.\n",
      "create word->word_id mapping for ../corpora/eswiki-latest-pages-articles1.xml-p1p159400.bz2..\n",
      "done.\n",
      "create word->word_id mapping for ../corpora/fiwiki-latest-pages-articles.xml.bz2..\n",
      "done.\n",
      "create word->word_id mapping for ../corpora/dewiki-latest-pages-articles1.xml-p1p297012.bz2..\n",
      "done.\n"
     ]
    }
   ],
   "source": [
    "import glob\n",
    "from gensim.test.utils import datapath, get_tmpfile\n",
    "from gensim.corpora import WikiCorpus, MmCorpus\n",
    "\n",
    "corpora = glob.glob(\"../corpora/*\")\n",
    "wikis = []\n",
    "for corpus in corpora:\n",
    "    path_to_wiki_dump = datapath(os.path.join(os.getcwd(),corpus))\n",
    "    print(f\"create word->word_id mapping for {corpus}..\")\n",
    "    wiki = WikiCorpus(path_to_wiki_dump)  # create word->word_id mapping, ~8h on full wiki\n",
    "    wikis.append(wiki)\n",
    "    print(\"done.\")\n"
   ]
  },
  {
   "cell_type": "code",
   "execution_count": 4,
   "id": "bd0a7e9d-c239-4250-bb9b-e0db418d3dba",
   "metadata": {},
   "outputs": [
    {
     "data": {
      "text/plain": [
       "'\\ncorpus_path = get_tmpfile(\"wiki-corpus.mm\")\\nprint(\"corpus_path\",corpus_path)\\nMmCorpus.serialize(corpus_path, wiki)  # another 8h, creates a file in MatrixMarket format and mapping\\n'"
      ]
     },
     "execution_count": 4,
     "metadata": {},
     "output_type": "execute_result"
    }
   ],
   "source": [
    "\"\"\"\n",
    "corpus_path = get_tmpfile(\"wiki-corpus.mm\")\n",
    "print(\"corpus_path\",corpus_path)\n",
    "MmCorpus.serialize(corpus_path, wiki)  # another 8h, creates a file in MatrixMarket format and mapping\n",
    "\"\"\""
   ]
  },
  {
   "cell_type": "code",
   "execution_count": 13,
   "id": "fb89fb69-6d36-4d8f-8591-ecfa48b70b56",
   "metadata": {},
   "outputs": [
    {
     "name": "stdout",
     "output_type": "stream",
     "text": [
      "creating TaggedWikisDocument..\n",
      "done.\n"
     ]
    }
   ],
   "source": [
    "# https://github.com/RaRe-Technologies/gensim/blob/develop/docs/notebooks/doc2vec-wikipedia.ipynb\n",
    "class TaggedWikisDocument(object):\n",
    "    def __init__(self, wikis):\n",
    "        self.wikis = wikis\n",
    "        for wiki in self.wikis:\n",
    "            wiki.metadata = True\n",
    "    def __iter__(self):\n",
    "        for wiki in self.wikis:\n",
    "            for content, (page_id, title) in wiki.get_texts():\n",
    "                yield TaggedDocument([c for c in content], [title])\n",
    "print(\"creating TaggedWikisDocument..\")\n",
    "documents = TaggedWikisDocument(wikis)\n",
    "print(\"done.\")"
   ]
  },
  {
   "cell_type": "code",
   "execution_count": 14,
   "id": "4f7ffaea-3082-4938-86e1-c3dad7891cc6",
   "metadata": {},
   "outputs": [
    {
     "data": {
      "text/plain": [
       "(649185531, 781235)"
      ]
     },
     "execution_count": 14,
     "metadata": {},
     "output_type": "execute_result"
    }
   ],
   "source": [
    "pre = Doc2Vec(min_count=19)\n",
    "pre.scan_vocab(documents)"
   ]
  },
  {
   "cell_type": "code",
   "execution_count": 15,
   "id": "be24444f-7aaa-4ec6-9932-5067bb1d72bf",
   "metadata": {},
   "outputs": [
    {
     "name": "stdout",
     "output_type": "stream",
     "text": [
      "done.\n"
     ]
    }
   ],
   "source": [
    "\"\"\"\n",
    "print(dir(pre))\n",
    "for num in range(0, 20):\n",
    "    print('min_count: {}, size of vocab: '.format(num), pre.scale_vocab(min_count=num, dry_run=True)['memory']['vocab']/700)\n",
    "\"\"\"\n",
    "print(\"done.\")"
   ]
  },
  {
   "cell_type": "code",
   "execution_count": 16,
   "id": "49fab76d-d67a-4abf-abe2-ad123401be7c",
   "metadata": {},
   "outputs": [
    {
     "name": "stdout",
     "output_type": "stream",
     "text": [
      "PV-DBOW..\n",
      "done. PV-DM w/average..\n",
      "done.\n"
     ]
    }
   ],
   "source": [
    "cores = multiprocessing.cpu_count()\n",
    "vector_size=20\n",
    "epochs=10\n",
    "models = []\n",
    "print(\"PV-DBOW..\")\n",
    "models.append(Doc2Vec(dm=0, vector_size=vector_size, epochs=epochs, dbow_words=1, window=8, min_count=19, workers=cores))\n",
    "print(\"done. PV-DM w/average..\")\n",
    "models.append(Doc2Vec(dm=1, vector_size=vector_size, epochs=epochs, dm_mean=1, window=8, min_count=19, workers=cores))\n",
    "print(\"done.\")"
   ]
  },
  {
   "cell_type": "code",
   "execution_count": 17,
   "id": "b0550c1a-e4fb-494b-a1f5-0813c9d49dab",
   "metadata": {},
   "outputs": [
    {
     "name": "stdout",
     "output_type": "stream",
     "text": [
      "Doc2Vec(dbow+w,d20,n5,w8,mc19,s0.001,t6)\n",
      "Doc2Vec(dm/m,d20,n5,w8,mc19,s0.001,t6)\n"
     ]
    }
   ],
   "source": [
    "models[0].build_vocab(documents)\n",
    "print(str(models[0]))\n",
    "models[1].reset_from(models[0])\n",
    "print(str(models[1]))"
   ]
  },
  {
   "cell_type": "code",
   "execution_count": null,
   "id": "61e67582-8e80-4165-9865-0b1e501aa237",
   "metadata": {},
   "outputs": [
    {
     "name": "stdout",
     "output_type": "stream",
     "text": [
      "Doc2Vec(dbow+w,d20,n5,w8,mc19,s0.001,t6)\n",
      "Doc2Vec(dm/m,d20,n5,w8,mc19,s0.001,t6)\n"
     ]
    }
   ],
   "source": [
    "for model in models:\n",
    "    print(model)\n",
    "    model.train(documents, total_examples=model.corpus_count, epochs=model.epochs)"
   ]
  },
  {
   "cell_type": "code",
   "execution_count": null,
   "id": "d4be57a3-6081-43b8-93b9-6ef1993b78b3",
   "metadata": {},
   "outputs": [],
   "source": [
    "print(\"done.\")"
   ]
  },
  {
   "cell_type": "code",
   "execution_count": 39,
   "id": "e3c6b1c8-8fd7-4f39-a2f3-f7d076cf7785",
   "metadata": {},
   "outputs": [
    {
     "name": "stdout",
     "output_type": "stream",
     "text": [
      "Doc2Vec(dbow+w,d20,n5,w8,mc19,s0.001,t6)\n",
      "[-0.03810085 -0.03745104  0.023528    0.11148287 -0.06903757 -0.01482041\n",
      " -0.01568955  0.14675127 -0.19061804  0.18683946  0.01116982 -0.03948331\n",
      "  0.00580188  0.01739955 -0.01418041  0.06465292  0.04332873 -0.00629203\n",
      " -0.09812663 -0.13303563]\n",
      "Doc2Vec(dm/m,d20,n5,w8,mc19,s0.001,t6)\n",
      "[-0.08005241  0.07104672 -0.15634401  0.13655604  0.01708053  0.07342408\n",
      " -0.13822488  0.04416401 -0.12918773 -0.00642562  0.03768267  0.09772336\n",
      " -0.07574216 -0.00097237 -0.01009978 -0.14112754  0.09736551  0.04296375\n",
      " -0.10699321 -0.08704165]\n",
      "Doc2Vec(dbow+w,d20,n5,w8,mc19,s0.001,t6)\n",
      "[ 1.06171668e-02 -1.47923641e-02  3.58497351e-02  1.59701109e-01\n",
      "  1.96340829e-02 -6.91482872e-02 -3.79089825e-02  8.82333294e-02\n",
      " -1.65948629e-01  1.56536803e-01  5.91934100e-02  9.26303491e-03\n",
      " -8.17632899e-02  4.88863792e-03 -4.52252245e-03  7.41044581e-02\n",
      "  1.52352834e-04  2.09927522e-02 -1.69016182e-01 -1.18401855e-01]\n",
      "Doc2Vec(dm/m,d20,n5,w8,mc19,s0.001,t6)\n",
      "[-0.09451106 -0.03155069 -0.127394    0.11289823  0.05718536  0.07059351\n",
      " -0.11377575 -0.02816375 -0.1502416   0.02257351  0.08503069  0.08265009\n",
      " -0.11331604 -0.06155911 -0.09650778 -0.11038715  0.12539993  0.03403477\n",
      " -0.13062724 -0.09455732]\n",
      "Doc2Vec(dbow+w,d20,n5,w8,mc19,s0.001,t6)\n",
      "[-0.03576539  0.02303387  0.0094497   0.27347597  0.05258038 -0.04639374\n",
      " -0.07389431  0.16044955 -0.2755919   0.22836189  0.04306657 -0.04025777\n",
      " -0.06580506  0.05353122 -0.10628536  0.03649854  0.09658125  0.12904102\n",
      " -0.20150858 -0.26632246]\n",
      "Doc2Vec(dm/m,d20,n5,w8,mc19,s0.001,t6)\n",
      "[-0.09434703  0.02807304 -0.15965457  0.17051862  0.02855597  0.09348581\n",
      " -0.14511436  0.00407467 -0.17776956 -0.02682808  0.0912993   0.13337599\n",
      " -0.12749942 -0.06907734 -0.03975587 -0.10978273  0.10107993  0.08126636\n",
      " -0.13125126 -0.12927237]\n",
      "Doc2Vec(dbow+w,d20,n5,w8,mc19,s0.001,t6)\n",
      "[-0.03384689 -0.02406029  0.00785172  0.29245454  0.0076453  -0.04397759\n",
      " -0.05335022  0.22415985 -0.23743573  0.22390434  0.07040874 -0.02681516\n",
      " -0.06823312 -0.00968567 -0.09663945  0.0887027   0.09915925  0.07456788\n",
      " -0.21481451 -0.23624843]\n",
      "Doc2Vec(dm/m,d20,n5,w8,mc19,s0.001,t6)\n",
      "[-0.11574399  0.02627211 -0.16815235  0.17181611  0.06595241  0.06120773\n",
      " -0.14945976  0.00273086 -0.18630685  0.04804731  0.08401731  0.13598387\n",
      " -0.06603813 -0.0676348  -0.07040395 -0.13457082  0.15038793  0.08156517\n",
      " -0.12970743 -0.12260165]\n"
     ]
    }
   ],
   "source": [
    "for sentence in [['last'],['page'],['last','page'],['last','page']]:\n",
    "    for model in models:\n",
    "        print(str(model))\n",
    "        vec = model.infer_vector(sentence)\n",
    "        print(vec)\n",
    "        #pprint(model.dv.most_similar(positive=[\"the\"], topn=20))\n"
   ]
  },
  {
   "cell_type": "code",
   "execution_count": null,
   "id": "96e945d0-879c-4340-b2f5-d1c46762cda4",
   "metadata": {},
   "outputs": [],
   "source": [
    "#model = gensim.downloader.load(\"glove-twitter-25\")\n",
    "#model_filename=\"enwiki_dbow/doc2vec.bin\"\n",
    "#model = gensim.models.Doc2Vec.load(model_filename)"
   ]
  },
  {
   "cell_type": "code",
   "execution_count": null,
   "id": "e8efaaa1-7e12-4500-858a-e10f7bf69406",
   "metadata": {},
   "outputs": [],
   "source": [
    "models[0].save(os.path.join(os.getcwd(),\"doc2vec_model_dbow.bin\"))\n",
    "models[1].save(os.path.join(os.getcwd(),\"doc2vec_model_dm.bin\"))\n",
    "#print(model)\n",
    "#print(dir(model))\n",
    "#model.get_vector(\"cat\")"
   ]
  },
  {
   "cell_type": "code",
   "execution_count": null,
   "id": "15a4c1c6-87b4-407d-9464-3f4f010134c0",
   "metadata": {},
   "outputs": [],
   "source": [
    "print(models[1].predict_output_word(['bird']))"
   ]
  }
 ],
 "metadata": {
  "kernelspec": {
   "display_name": "Python 3 (ipykernel)",
   "language": "python",
   "name": "python3"
  },
  "language_info": {
   "codemirror_mode": {
    "name": "ipython",
    "version": 3
   },
   "file_extension": ".py",
   "mimetype": "text/x-python",
   "name": "python",
   "nbconvert_exporter": "python",
   "pygments_lexer": "ipython3",
   "version": "3.9.5"
  }
 },
 "nbformat": 4,
 "nbformat_minor": 5
}
